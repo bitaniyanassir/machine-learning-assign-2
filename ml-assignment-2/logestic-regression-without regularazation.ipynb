import pandas as pd
import numpy as np
import matplotlib.pyplot as plt
import seaborn as sns 
from sklearn.model_selection import train_test_split
from sklearn.preprocessing import StandardScaler
from sklearn.linear_model import LogisticRegression
from sklearn.model_selection import GridSearchCV
from sklearn.metrics import accuracy_score,confusion_matrix,classification_report
from sklearn.metrics import ConfusionMatrixDisplay
from sklearn.preprocessing import LabelEncoder
from sklearn.base import BaseEstimator, ClassifierMixin
from scipy.special import expit



df = pd.read_csv("penguins_size.csv")

df.head()

df.info()

df.isna().sum()

df = df.dropna()

df.info()

df['sex'].unique()

df['island'].unique()

df = df[df['sex']!='.']

sns.scatterplot(x='culmen_length_mm',y='culmen_depth_mm',data=df,hue='species',palette='Dark2')

sns.pairplot(df,hue='species',palette='Dark2')

sns.catplot(x='species',y='culmen_length_mm',data=df,kind='box',col='sex',palette='Dark2')

pd.get_dummies(df)

pd.get_dummies(df.drop('species',axis=1),drop_first=True)

X = pd.get_dummies(df.drop('species',axis=1),drop_first=True)
y = df['species']


X_trainval, X_test, y_trainval, y_test = train_test_split(X, y, test_size=0.2, random_state=1)
X_train, X_val, y_train, y_val = train_test_split(X_trainval, y_trainval, test_size=0.25, random_state=1)
print(y_train)

# Feature Scaling
scaler = StandardScaler()
scaled_X_train = scaler.fit_transform(X_train)
scaled_X_test = scaler.transform(X_test)



    

log_model = LogisticRegression()
log_model.fit(scaled_X_train,y_train)

y_pred = log_model.predict(scaled_X_test)

accuracy_score(y_test,y_pred)


confusion_matrix(y_test,y_pred)

ConfusionMatrixDisplay.from_estimator(log_model,scaled_X_test,y_test)


print(classification_report(y_test,y_pred))

y_train_pred = log_model.predict(X_train)
train_report = classification_report(y_train, y_train_pred)
print("Training Set Performance:")
print(train_report)


y_test_pred = log_model.predict(X_test)
test_report = classification_report(y_test, y_test_pred)
print("Test Set Performance:")
print(test_report)

y_val_pred = log_model.predict(X_val)
val_report = classification_report(y_val, y_val_pred)
print("Validation Set Performance:")
print(val_report)



